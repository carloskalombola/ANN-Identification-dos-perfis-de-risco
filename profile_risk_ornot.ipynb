{
  "nbformat": 4,
  "nbformat_minor": 0,
  "metadata": {
    "colab": {
      "provenance": [],
      "gpuType": "T4"
    },
    "kernelspec": {
      "name": "python3",
      "display_name": "Python 3"
    },
    "language_info": {
      "name": "python"
    },
    "accelerator": "GPU"
  },
  "cells": [
    {
      "cell_type": "markdown",
      "source": [
        "# Análise de perfis de pacientes: determinar se um perfil está em risco ou não"
      ],
      "metadata": {
        "id": "KzRV41PmNn3C"
      }
    },
    {
      "cell_type": "markdown",
      "source": [
        "Este projeto centra-se na análise (classificação supervisionada) de perfis de pacientes para descobrir se estão ou não em risco com base no seu perfil, de acordo com o nível de poluição, utilizando técnicas de redes neurais profundas. Apenas para fins educacionais.\n",
        "\n",
        "\n",
        "##### Copyright (c) 2024, CKALOMBOLA\n",
        "<p xmlns:cc=\"http://creativecommons.org/ns#\" >Este projeto está licenciado sob  <a href=\"http://creativecommons.org/licenses/by-nc-sa/4.0/?ref=chooser-v1\" target=\"_blank\" rel=\"license noopener noreferrer\" style=\"display:inline-block;\">CC BY-NC-SA 4.0"
      ],
      "metadata": {
        "id": "Nrcs7rotN7RJ"
      }
    },
    {
      "cell_type": "markdown",
      "source": [
        "###  Importação das bibliotecas necessárias para o projeto"
      ],
      "metadata": {
        "id": "FqvZMQBrV3NX"
      }
    },
    {
      "cell_type": "code",
      "source": [
        "# Importar as libs\n",
        "import pandas as pd\n",
        "import matplotlib.pyplot as plt\n",
        "import seaborn as sb\n",
        "import numpy as np\n",
        "from sklearn.model_selection import train_test_split\n",
        "from sklearn.preprocessing import StandardScaler\n",
        "from keras.models import Sequential\n",
        "from keras.layers import Dense\n",
        "from sklearn.metrics import confusion_matrix, precision_score, recall_score, f1_score\n",
        "from sklearn.metrics import cohen_kappa_score"
      ],
      "metadata": {
        "id": "rL2yeyrfaYsZ"
      },
      "execution_count": 3,
      "outputs": []
    },
    {
      "cell_type": "markdown",
      "source": [
        "### 1)- Carregando a base de dados:\n",
        "- Em uma classe Deep, definimos uma função de deepLearning onde primeiro será carregado aas duas bases de dados risk e noRisk.\n",
        "\n",
        "- Em seguida, adicionamos uma coluna `\"type\"` que será nossa variável alvo com um valor de `\"1\"` para as pessoas no dataframe de risco e `\"0\"` para as pessoas no dataframe sem risco.\n",
        "\n",
        "### 2)- Preparação do conjunto de dados de treinamento e teste:\n",
        "- Divisão da base de dados em um conjunto de treinamento  e teste\n",
        "\n",
        "### 3)- Construção do modelo\n",
        "- Normalização do conjunto de dados, e cronstrução do modelo de treinamento e configurações."
      ],
      "metadata": {
        "id": "3tceIT41Y2Ec"
      }
    },
    {
      "cell_type": "code",
      "source": [
        "class Deep :\n",
        "  def deepLeaning(self):\n",
        "    risk = pd.read_table(\"/content/riskData.csv\",sep=\";\",header=0 )\n",
        "    noRisk = pd.read_table(\"/content/noRiskData.csv\",sep=\";\",header=0)\n",
        "    # Add coluna `type` a `pessoas de risco` com o valor 1\n",
        "    risk['type'] = 1\n",
        "\n",
        "    # Add coluna `type` a `pessoas sem risco` com o valor 0\n",
        "    noRisk['type'] = 0\n",
        "    # Append `noRisk` to `Risk`\n",
        "    peoples = risk.append(noRisk, ignore_index=True)\n",
        "    print(peoples)\n",
        "    corr = peoples.corr()\n",
        "    sb.heatmap(corr,\n",
        "               xticklabels=corr.columns.values,\n",
        "               yticklabels=corr.columns.values)\n",
        "    # Specify the data, the target labels and flatten the array\n",
        "    X=peoples.iloc[:,0:10]\n",
        "    y=np.ravel(peoples.type)\n",
        "\n",
        "    # Split the data up in train ande test sets\n",
        "    X_train, X_test, y_train, y_test = train_test_split(X, y, test_size=0.33, random_state=42)\n",
        "\n",
        "    # Define the scaler\n",
        "    scaler = StandardScaler().fit(X_train)\n",
        "    # Scaler the train set and Scaler the test set\n",
        "    X_train = scaler.transform(X_train)\n",
        "    X_test = scaler.transform(X_test)\n",
        "\n",
        "    # initialize the constructor\n",
        "    model = Sequential()\n",
        "    # Add an input layer\n",
        "    model.add(Dense(12, activation='relu', input_shape=(10,)))\n",
        "    # test with tanh\n",
        "    # Add one hidden layer\n",
        "    model.add(Dense(8, activation='relu'))\n",
        "    # Add an output layer\n",
        "    model.add(Dense(1, activation='sigmoid'))\n",
        "\n",
        "    # Model output shape\n",
        "    model.output_shape\n",
        "    print(\"model output shape\")\n",
        "    print(\"model summary\")\n",
        "    model.summary()\n",
        "\n",
        "    # Model configuration\n",
        "    print(\"model config\")\n",
        "    model.get_config()\n",
        "    # List all weight tensioners\n",
        "    print(\"list all weight tensors\")\n",
        "    model.get_weights()\n",
        "\n",
        "    # Training & testing\n",
        "    model.compile(loss='binary_crossentropy',\n",
        "                  optimizer='adam',\n",
        "                  metrics=['accuracy'])\n",
        "    model.fit(X_train, y_train,epochs=50, batch_size=1, verbose=1)\n",
        "\n",
        "    y_pred = model.predict(X_test)\n",
        "    print(\"y_pred\")\n",
        "    print(y_pred[:10])\n",
        "    print(\"y_test\")\n",
        "    print(y_test[:10])\n",
        "\n",
        "    score = model.evaluate(X_test, y_test,verbose=1)\n",
        "    print(\"score: \")\n",
        "    print(score)\n",
        "\n",
        "if __name__ == '__main__':\n",
        "  deep = Deep()\n",
        "  deep.deepLeaning()"
      ],
      "metadata": {
        "colab": {
          "base_uri": "https://localhost:8080/",
          "height": 1000
        },
        "id": "y35ajfMBbfwt",
        "outputId": "65981b3d-0374-4cd5-9ae3-ea794b6a6121"
      },
      "execution_count": 10,
      "outputs": [
        {
          "output_type": "stream",
          "name": "stderr",
          "text": [
            "<ipython-input-10-41086a351c39>:11: FutureWarning: The frame.append method is deprecated and will be removed from pandas in a future version. Use pandas.concat instead.\n",
            "  peoples = risk.append(noRisk, ignore_index=True)\n"
          ]
        },
        {
          "output_type": "stream",
          "name": "stdout",
          "text": [
            "        ID  weight  height  age  gender  smoking  drinking  Code Postal  \\\n",
            "0        1      90     193   69       1        1         1         6000   \n",
            "1        2      49     160   69       1        1         1         6670   \n",
            "2        3      87     198   69       0        1         1         6300   \n",
            "3        4      89     194   72       0        0         0         6540   \n",
            "4        5      67     183   67       1        0         0        59100   \n",
            "...    ...     ...     ...  ...     ...      ...       ...          ...   \n",
            "1090   994      80     179   37       0        0         1         6730   \n",
            "1091   995      58     183   34       0        0         1         6200   \n",
            "1092   997      92     200   40       1        1         0         6200   \n",
            "1093   999      57     166   10       0        1         1         6100   \n",
            "1094  1000      32     161   11       0        0         0         6230   \n",
            "\n",
            "      STATION  BMI  type  \n",
            "0           5   24     1  \n",
            "1           5   19     1  \n",
            "2           5   22     1  \n",
            "3           5   24     1  \n",
            "4           5   20     1  \n",
            "...       ...  ...   ...  \n",
            "1090        1   25     0  \n",
            "1091        1   17     0  \n",
            "1092        1   23     0  \n",
            "1093        1   21     0  \n",
            "1094        1   12     0  \n",
            "\n",
            "[1095 rows x 11 columns]\n",
            "model output shape\n",
            "model summary\n",
            "Model: \"sequential_2\"\n",
            "_________________________________________________________________\n",
            " Layer (type)                Output Shape              Param #   \n",
            "=================================================================\n",
            " dense_6 (Dense)             (None, 12)                132       \n",
            "                                                                 \n",
            " dense_7 (Dense)             (None, 8)                 104       \n",
            "                                                                 \n",
            " dense_8 (Dense)             (None, 1)                 9         \n",
            "                                                                 \n",
            "=================================================================\n",
            "Total params: 245 (980.00 Byte)\n",
            "Trainable params: 245 (980.00 Byte)\n",
            "Non-trainable params: 0 (0.00 Byte)\n",
            "_________________________________________________________________\n",
            "model config\n",
            "list all weight tensors\n",
            "Epoch 1/50\n",
            "733/733 [==============================] - 4s 4ms/step - loss: 0.4260 - accuracy: 0.8035\n",
            "Epoch 2/50\n",
            "733/733 [==============================] - 2s 3ms/step - loss: 0.1652 - accuracy: 0.9645\n",
            "Epoch 3/50\n",
            "733/733 [==============================] - 2s 3ms/step - loss: 0.0781 - accuracy: 0.9850\n",
            "Epoch 4/50\n",
            "733/733 [==============================] - 2s 3ms/step - loss: 0.0500 - accuracy: 0.9905\n",
            "Epoch 5/50\n",
            "733/733 [==============================] - 2s 3ms/step - loss: 0.0376 - accuracy: 0.9932\n",
            "Epoch 6/50\n",
            "733/733 [==============================] - 2s 3ms/step - loss: 0.0304 - accuracy: 0.9918\n",
            "Epoch 7/50\n",
            "733/733 [==============================] - 3s 4ms/step - loss: 0.0252 - accuracy: 0.9959\n",
            "Epoch 8/50\n",
            "733/733 [==============================] - 3s 4ms/step - loss: 0.0205 - accuracy: 0.9945\n",
            "Epoch 9/50\n",
            "733/733 [==============================] - 2s 3ms/step - loss: 0.0167 - accuracy: 0.9945\n",
            "Epoch 10/50\n",
            "733/733 [==============================] - 2s 3ms/step - loss: 0.0138 - accuracy: 0.9973\n",
            "Epoch 11/50\n",
            "733/733 [==============================] - 2s 3ms/step - loss: 0.0112 - accuracy: 0.9986\n",
            "Epoch 12/50\n",
            "733/733 [==============================] - 2s 3ms/step - loss: 0.0099 - accuracy: 0.9986\n",
            "Epoch 13/50\n",
            "733/733 [==============================] - 2s 3ms/step - loss: 0.0084 - accuracy: 0.9986\n",
            "Epoch 14/50\n",
            "733/733 [==============================] - 3s 4ms/step - loss: 0.0067 - accuracy: 0.9986\n",
            "Epoch 15/50\n",
            "733/733 [==============================] - 3s 4ms/step - loss: 0.0057 - accuracy: 1.0000\n",
            "Epoch 16/50\n",
            "733/733 [==============================] - 2s 3ms/step - loss: 0.0059 - accuracy: 1.0000\n",
            "Epoch 17/50\n",
            "733/733 [==============================] - 2s 3ms/step - loss: 0.0043 - accuracy: 0.9986\n",
            "Epoch 18/50\n",
            "733/733 [==============================] - 2s 3ms/step - loss: 0.0033 - accuracy: 1.0000\n",
            "Epoch 19/50\n",
            "733/733 [==============================] - 2s 3ms/step - loss: 0.0030 - accuracy: 1.0000\n",
            "Epoch 20/50\n",
            "733/733 [==============================] - 2s 3ms/step - loss: 0.0022 - accuracy: 1.0000\n",
            "Epoch 21/50\n",
            "733/733 [==============================] - 3s 4ms/step - loss: 0.0024 - accuracy: 1.0000\n",
            "Epoch 22/50\n",
            "733/733 [==============================] - 2s 3ms/step - loss: 0.0025 - accuracy: 1.0000\n",
            "Epoch 23/50\n",
            "733/733 [==============================] - 2s 3ms/step - loss: 0.0012 - accuracy: 1.0000\n",
            "Epoch 24/50\n",
            "733/733 [==============================] - 2s 3ms/step - loss: 0.0011 - accuracy: 1.0000\n",
            "Epoch 25/50\n",
            "733/733 [==============================] - 2s 3ms/step - loss: 0.0012 - accuracy: 1.0000\n",
            "Epoch 26/50\n",
            "733/733 [==============================] - 2s 3ms/step - loss: 7.2427e-04 - accuracy: 1.0000\n",
            "Epoch 27/50\n",
            "733/733 [==============================] - 2s 3ms/step - loss: 0.0034 - accuracy: 0.9986\n",
            "Epoch 28/50\n",
            "733/733 [==============================] - 3s 4ms/step - loss: 0.0051 - accuracy: 0.9986\n",
            "Epoch 29/50\n",
            "733/733 [==============================] - 2s 3ms/step - loss: 4.8715e-04 - accuracy: 1.0000\n",
            "Epoch 30/50\n",
            "733/733 [==============================] - 2s 3ms/step - loss: 4.3257e-04 - accuracy: 1.0000\n",
            "Epoch 31/50\n",
            "733/733 [==============================] - 2s 3ms/step - loss: 3.6984e-04 - accuracy: 1.0000\n",
            "Epoch 32/50\n",
            "733/733 [==============================] - 2s 3ms/step - loss: 3.4117e-04 - accuracy: 1.0000\n",
            "Epoch 33/50\n",
            "733/733 [==============================] - 2s 3ms/step - loss: 3.8139e-04 - accuracy: 1.0000\n",
            "Epoch 34/50\n",
            "733/733 [==============================] - 2s 3ms/step - loss: 3.1442e-04 - accuracy: 1.0000\n",
            "Epoch 35/50\n",
            "733/733 [==============================] - 3s 4ms/step - loss: 4.7119e-04 - accuracy: 1.0000\n",
            "Epoch 36/50\n",
            "733/733 [==============================] - 2s 3ms/step - loss: 4.6979e-04 - accuracy: 1.0000\n",
            "Epoch 37/50\n",
            "733/733 [==============================] - 2s 3ms/step - loss: 2.6341e-04 - accuracy: 1.0000\n",
            "Epoch 38/50\n",
            "733/733 [==============================] - 2s 3ms/step - loss: 1.7185e-04 - accuracy: 1.0000\n",
            "Epoch 39/50\n",
            "733/733 [==============================] - 2s 3ms/step - loss: 1.4458e-04 - accuracy: 1.0000\n",
            "Epoch 40/50\n",
            "733/733 [==============================] - 2s 3ms/step - loss: 2.1195e-04 - accuracy: 1.0000\n",
            "Epoch 41/50\n",
            "733/733 [==============================] - 3s 4ms/step - loss: 4.9233e-04 - accuracy: 1.0000\n",
            "Epoch 42/50\n",
            "733/733 [==============================] - 3s 4ms/step - loss: 4.5469e-04 - accuracy: 1.0000\n",
            "Epoch 43/50\n",
            "733/733 [==============================] - 3s 4ms/step - loss: 8.6978e-05 - accuracy: 1.0000\n",
            "Epoch 44/50\n",
            "733/733 [==============================] - 2s 3ms/step - loss: 5.8512e-05 - accuracy: 1.0000\n",
            "Epoch 45/50\n",
            "733/733 [==============================] - 2s 3ms/step - loss: 5.2095e-05 - accuracy: 1.0000\n",
            "Epoch 46/50\n",
            "733/733 [==============================] - 2s 3ms/step - loss: 4.7958e-05 - accuracy: 1.0000\n",
            "Epoch 47/50\n",
            "733/733 [==============================] - 2s 3ms/step - loss: 4.1957e-05 - accuracy: 1.0000\n",
            "Epoch 48/50\n",
            "733/733 [==============================] - 2s 3ms/step - loss: 3.3581e-05 - accuracy: 1.0000\n",
            "Epoch 49/50\n",
            "733/733 [==============================] - 3s 4ms/step - loss: 5.4184e-05 - accuracy: 1.0000\n",
            "Epoch 50/50\n",
            "733/733 [==============================] - 3s 4ms/step - loss: 5.4829e-05 - accuracy: 1.0000\n",
            "12/12 [==============================] - 0s 2ms/step\n",
            "y_pred\n",
            "[[1.9259354e-13]\n",
            " [1.0000000e+00]\n",
            " [1.0000000e+00]\n",
            " [0.0000000e+00]\n",
            " [3.0827087e-30]\n",
            " [3.2614235e-14]\n",
            " [1.0000000e+00]\n",
            " [1.0910359e-15]\n",
            " [0.0000000e+00]\n",
            " [2.6044857e-19]]\n",
            "y_test\n",
            "[0 1 1 0 0 0 1 0 0 0]\n",
            "12/12 [==============================] - 0s 3ms/step - loss: 0.2988 - accuracy: 0.9641\n",
            "score: \n",
            "[0.2988167107105255, 0.9640883803367615]\n"
          ]
        },
        {
          "output_type": "display_data",
          "data": {
            "text/plain": [
              "<Figure size 640x480 with 2 Axes>"
            ],
            "image/png": "[encoded data removed]"
          },
          "metadata": {}
        }
      ]
    },
    {
      "cell_type": "markdown",
      "source": [
        "Podemos ver que indivíduos em risco são previstos com sucesso (y_test = 1) com uma precisão de 0,96"
      ],
      "metadata": {
        "id": "DHxRO60-f0nf"
      }
    },
    {
      "cell_type": "code",
      "source": [],
      "metadata": {
        "id": "KU5nYo4dgpq6"
      },
      "execution_count": null,
      "outputs": []
    }
  ]
}